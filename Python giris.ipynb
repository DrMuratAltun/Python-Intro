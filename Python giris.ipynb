{
 "cells": [
  {
   "cell_type": "markdown",
   "id": "e97df724",
   "metadata": {},
   "source": [
    "# Python Temelleri"
   ]
  },
  {
   "attachments": {
    "image.png": {
     "image/png": "[encoded data removed]"
    }
   },
   "cell_type": "markdown",
   "id": "22deda96",
   "metadata": {},
   "source": [
    "![image.png](attachment:image.png)"
   ]
  },
  {
   "cell_type": "code",
   "execution_count": 2,
   "id": "9c46b66a",
   "metadata": {
    "collapsed": true
   },
   "outputs": [
    {
     "name": "stdout",
     "output_type": "stream",
     "text": [
      "Merhaba Dünya\n"
     ]
    }
   ],
   "source": [
    "print(\"Merhaba Dünya\")"
   ]
  },
  {
   "cell_type": "code",
   "execution_count": 3,
   "id": "c8a9af59",
   "metadata": {},
   "outputs": [
    {
     "name": "stdout",
     "output_type": "stream",
     "text": [
      "124\n"
     ]
    }
   ],
   "source": [
    "print(124)"
   ]
  },
  {
   "cell_type": "code",
   "execution_count": 4,
   "id": "46fce685",
   "metadata": {},
   "outputs": [
    {
     "name": "stdout",
     "output_type": "stream",
     "text": [
      "124\n"
     ]
    }
   ],
   "source": [
    "print(\"124\")"
   ]
  },
  {
   "cell_type": "code",
   "execution_count": 5,
   "id": "c437cfd9",
   "metadata": {},
   "outputs": [
    {
     "name": "stdout",
     "output_type": "stream",
     "text": [
      "Murat 124\n"
     ]
    }
   ],
   "source": [
    "print(\"Murat\",\"124\")"
   ]
  },
  {
   "cell_type": "code",
   "execution_count": 6,
   "id": "77640583",
   "metadata": {},
   "outputs": [
    {
     "name": "stdout",
     "output_type": "stream",
     "text": [
      "murat 124\n"
     ]
    }
   ],
   "source": [
    "print(\"murat\",124)"
   ]
  },
  {
   "cell_type": "code",
   "execution_count": 7,
   "id": "bc499f09",
   "metadata": {},
   "outputs": [
    {
     "name": "stdout",
     "output_type": "stream",
     "text": [
      "11\n"
     ]
    }
   ],
   "source": [
    "print(5+6)"
   ]
  },
  {
   "cell_type": "code",
   "execution_count": 8,
   "id": "4ebe6070",
   "metadata": {},
   "outputs": [
    {
     "name": "stdout",
     "output_type": "stream",
     "text": [
      "MuratALTUN\n"
     ]
    }
   ],
   "source": [
    "print(\"Murat\"+\"ALTUN\")"
   ]
  },
  {
   "cell_type": "code",
   "execution_count": 9,
   "id": "e9f109e2",
   "metadata": {},
   "outputs": [
    {
     "name": "stdout",
     "output_type": "stream",
     "text": [
      "Murat ALTUN\n"
     ]
    }
   ],
   "source": [
    "print(\"Murat\"+\" \"+ \"ALTUN\")"
   ]
  },
  {
   "cell_type": "code",
   "execution_count": 10,
   "id": "32ba2574",
   "metadata": {},
   "outputs": [
    {
     "name": "stdout",
     "output_type": "stream",
     "text": [
      "Murat124\n"
     ]
    }
   ],
   "source": [
    "print(\"Murat\" + \"124\" )"
   ]
  },
  {
   "cell_type": "code",
   "execution_count": 11,
   "id": "8af4dde0",
   "metadata": {},
   "outputs": [
    {
     "ename": "TypeError",
     "evalue": "can only concatenate str (not \"int\") to str",
     "output_type": "error",
     "traceback": [
      "\u001b[1;31m---------------------------------------------------------------------------\u001b[0m",
      "\u001b[1;31mTypeError\u001b[0m                                 Traceback (most recent call last)",
      "Cell \u001b[1;32mIn[11], line 1\u001b[0m\n\u001b[1;32m----> 1\u001b[0m \u001b[38;5;28mprint\u001b[39m(\u001b[38;5;124m\"\u001b[39m\u001b[38;5;124mMurat\u001b[39m\u001b[38;5;124m\"\u001b[39m\u001b[38;5;241m+\u001b[39m\u001b[38;5;241m124\u001b[39m)\n",
      "\u001b[1;31mTypeError\u001b[0m: can only concatenate str (not \"int\") to str"
     ]
    }
   ],
   "source": [
    "print(\"Murat\"+124)"
   ]
  },
  {
   "cell_type": "code",
   "execution_count": 12,
   "id": "cbcb9465",
   "metadata": {},
   "outputs": [
    {
     "name": "stdout",
     "output_type": "stream",
     "text": [
      "25\n"
     ]
    }
   ],
   "source": [
    "print(5*5)"
   ]
  },
  {
   "cell_type": "code",
   "execution_count": 13,
   "id": "ca4b308a",
   "metadata": {},
   "outputs": [
    {
     "data": {
      "text/plain": [
       "10"
      ]
     },
     "execution_count": 13,
     "metadata": {},
     "output_type": "execute_result"
    }
   ],
   "source": [
    "5+5"
   ]
  },
  {
   "cell_type": "code",
   "execution_count": 14,
   "id": "3199112a",
   "metadata": {},
   "outputs": [
    {
     "data": {
      "text/plain": [
       "10"
      ]
     },
     "execution_count": 14,
     "metadata": {},
     "output_type": "execute_result"
    }
   ],
   "source": [
    "5*5\n",
    "5+5 #son satırı çıktı olarak yazdırır"
   ]
  },
  {
   "cell_type": "code",
   "execution_count": 15,
   "id": "38b66ef7",
   "metadata": {},
   "outputs": [
    {
     "name": "stdout",
     "output_type": "stream",
     "text": [
      "MuratMuratMuratMuratMurat\n"
     ]
    }
   ],
   "source": [
    "print(5*\"Murat\")"
   ]
  },
  {
   "cell_type": "code",
   "execution_count": 16,
   "id": "5b566a53",
   "metadata": {},
   "outputs": [
    {
     "name": "stdout",
     "output_type": "stream",
     "text": [
      "Murat\n",
      "Murat\n",
      "Murat\n",
      "Murat\n",
      "Murat\n",
      "\n"
     ]
    }
   ],
   "source": [
    "print(5*\"Murat\\n\")"
   ]
  },
  {
   "cell_type": "code",
   "execution_count": 19,
   "id": "1e7154a8",
   "metadata": {},
   "outputs": [
    {
     "name": "stdout",
     "output_type": "stream",
     "text": [
      "BTK\tBTK\tBTK\tBTK\tBTK\tBTK\tBTK\tBTK\tBTK\tBTK\tBTK\tBTK\tBTK\tBTK\tBTK\tBTK\tBTK\tBTK\tBTK\tBTK\tBTK\tBTK\tBTK\tBTK\tBTK\tBTK\tBTK\tBTK\tBTK\tBTK\tBTK\tBTK\tBTK\tBTK\tBTK\tBTK\tBTK\tBTK\tBTK\tBTK\tBTK\tBTK\tBTK\tBTK\tBTK\tBTK\tBTK\tBTK\tBTK\tBTK\tBTK\tBTK\tBTK\tBTK\tBTK\tBTK\tBTK\tBTK\tBTK\tBTK\tBTK\tBTK\tBTK\tBTK\tBTK\tBTK\tBTK\tBTK\tBTK\tBTK\tBTK\tBTK\tBTK\tBTK\tBTK\tBTK\tBTK\tBTK\tBTK\tBTK\tBTK\tBTK\tBTK\tBTK\tBTK\tBTK\tBTK\tBTK\tBTK\tBTK\tBTK\tBTK\tBTK\tBTK\tBTK\tBTK\tBTK\tBTK\tBTK\tBTK\t\n"
     ]
    }
   ],
   "source": [
    "print(100*\"BTK\\t\")"
   ]
  },
  {
   "cell_type": "code",
   "execution_count": 20,
   "id": "767d46a6",
   "metadata": {},
   "outputs": [
    {
     "name": "stdout",
     "output_type": "stream",
     "text": [
      "1-2-3\n"
     ]
    }
   ],
   "source": [
    "print(\"1\",\"2\",\"3\",sep=\"-\")"
   ]
  },
  {
   "cell_type": "code",
   "execution_count": 21,
   "id": "c0a9d36a",
   "metadata": {},
   "outputs": [
    {
     "name": "stdout",
     "output_type": "stream",
     "text": [
      "1-2-3\n"
     ]
    }
   ],
   "source": [
    "print(\"1-2-3\")"
   ]
  },
  {
   "cell_type": "code",
   "execution_count": 22,
   "id": "25353bd2",
   "metadata": {},
   "outputs": [
    {
     "name": "stdout",
     "output_type": "stream",
     "text": [
      "10\n",
      "0\n",
      "25\n",
      "1.0\n",
      "3125\n",
      "0\n",
      "1\n"
     ]
    }
   ],
   "source": [
    "#Aritmetik İşlemler\n",
    "print (5+5)\n",
    "print (5-5)\n",
    "print (5*5)\n",
    "print (5/5)\n",
    "print (5**5) # üs alma\n",
    "print (5%5) #mod-kalan\n",
    "print (5//5)#tam bölme ondalıklı kısmı atar"
   ]
  },
  {
   "cell_type": "code",
   "execution_count": 25,
   "id": "9e91095b",
   "metadata": {},
   "outputs": [
    {
     "name": "stdout",
     "output_type": "stream",
     "text": [
      "False\n",
      "False\n",
      "True\n",
      "False\n",
      "True\n",
      "True\n"
     ]
    }
   ],
   "source": [
    "#Mantıksal Işlemler\n",
    "print (5>5)\n",
    "print (5<5)\n",
    "print (5==5)\n",
    "print (5!=5)\n",
    "print (5>=5)\n",
    "print (5<=5)"
   ]
  },
  {
   "cell_type": "code",
   "execution_count": 27,
   "id": "46c8b898",
   "metadata": {},
   "outputs": [
    {
     "name": "stdout",
     "output_type": "stream",
     "text": [
      "<class 'int'>\n",
      "<class 'float'>\n",
      "<class 'str'>\n"
     ]
    }
   ],
   "source": [
    "#Data types\n",
    "print(type(5))\n",
    "print(type(5.0))\n",
    "print(type(\"5\"))"
   ]
  },
  {
   "cell_type": "code",
   "execution_count": 28,
   "id": "2f8652e6",
   "metadata": {},
   "outputs": [
    {
     "name": "stdout",
     "output_type": "stream",
     "text": [
      "(5+5j)\n",
      "<class 'complex'>\n"
     ]
    }
   ],
   "source": [
    "#Complex numbers\n",
    "print(5+5j)\n",
    "print(type(5+5j))"
   ]
  },
  {
   "cell_type": "code",
   "execution_count": 33,
   "id": "7f626eb9",
   "metadata": {},
   "outputs": [
    {
     "name": "stdout",
     "output_type": "stream",
     "text": [
      "<class 'int'>\n",
      "<class 'float'>\n",
      "<class 'str'>\n"
     ]
    }
   ],
   "source": [
    "#Variables\n",
    "x=5\n",
    "print(type(x))\n",
    "x=5.0\n",
    "print(type(x))\n",
    "x=\"5\"\n",
    "print(type(x))"
   ]
  },
  {
   "cell_type": "code",
   "execution_count": 31,
   "id": "20226d6f",
   "metadata": {},
   "outputs": [],
   "source": [
    "x=10"
   ]
  },
  {
   "cell_type": "code",
   "execution_count": 32,
   "id": "4a7a6a04",
   "metadata": {},
   "outputs": [
    {
     "name": "stdout",
     "output_type": "stream",
     "text": [
      "10\n"
     ]
    }
   ],
   "source": [
    "print(x)"
   ]
  },
  {
   "cell_type": "code",
   "execution_count": 34,
   "id": "e1fdcffd",
   "metadata": {},
   "outputs": [
    {
     "data": {
      "text/plain": [
       "False"
      ]
     },
     "execution_count": 34,
     "metadata": {},
     "output_type": "execute_result"
    }
   ],
   "source": [
    "ehliyet=True\n",
    "universite=False\n",
    "not(ehliyet)"
   ]
  },
  {
   "cell_type": "code",
   "execution_count": 35,
   "id": "860251e6",
   "metadata": {},
   "outputs": [
    {
     "data": {
      "text/plain": [
       "False"
      ]
     },
     "execution_count": 35,
     "metadata": {},
     "output_type": "execute_result"
    }
   ],
   "source": [
    "ehliyet and universite #çarpma işlemi"
   ]
  },
  {
   "cell_type": "code",
   "execution_count": 36,
   "id": "744af9b0",
   "metadata": {},
   "outputs": [
    {
     "data": {
      "text/plain": [
       "True"
      ]
     },
     "execution_count": 36,
     "metadata": {},
     "output_type": "execute_result"
    }
   ],
   "source": [
    "ehliyet or universite #toplama işlemi"
   ]
  },
  {
   "cell_type": "code",
   "execution_count": 37,
   "id": "5f6e967e",
   "metadata": {},
   "outputs": [
    {
     "data": {
      "text/plain": [
       "False"
      ]
     },
     "execution_count": 37,
     "metadata": {},
     "output_type": "execute_result"
    }
   ],
   "source": [
    "True & False #and"
   ]
  },
  {
   "cell_type": "code",
   "execution_count": 39,
   "id": "4063bd2c",
   "metadata": {},
   "outputs": [
    {
     "data": {
      "text/plain": [
       "True"
      ]
     },
     "execution_count": 39,
     "metadata": {},
     "output_type": "execute_result"
    }
   ],
   "source": [
    "True | False #or"
   ]
  },
  {
   "cell_type": "code",
   "execution_count": 44,
   "id": "62815f4d",
   "metadata": {},
   "outputs": [],
   "source": [
    "ehliyet=False\n",
    "universite=True\n",
    "kidem=9"
   ]
  },
  {
   "cell_type": "code",
   "execution_count": 45,
   "id": "24750506",
   "metadata": {},
   "outputs": [
    {
     "name": "stdout",
     "output_type": "stream",
     "text": [
      "Başvuru yapamazsınız\n"
     ]
    }
   ],
   "source": [
    "if ehliyet==True and(universite==True or kidem>=10):\n",
    "    print(\"Başvuru yapabilirsiniz\")\n",
    "else:print(\"Başvuru yapamazsınız\")        "
   ]
  },
  {
   "cell_type": "code",
   "execution_count": 43,
   "id": "d7f8dbb0",
   "metadata": {},
   "outputs": [
    {
     "name": "stdout",
     "output_type": "stream",
     "text": [
      "Başvuru yapabilirsiniz\n"
     ]
    }
   ],
   "source": [
    "if ehliyet and(universite or kidem>=10):\n",
    "    print(\"Başvuru yapabilirsiniz\")\n",
    "else:print(\"Başvuru yapamazsınız\") "
   ]
  },
  {
   "cell_type": "code",
   "execution_count": 51,
   "id": "4681f9eb",
   "metadata": {},
   "outputs": [
    {
     "name": "stdout",
     "output_type": "stream",
     "text": [
      "Vize notunu giriniz:50\n",
      "Final notunu giriniz:80\n"
     ]
    }
   ],
   "source": [
    "vize=int(input(\"Vize notunu giriniz:\"))\n",
    "final=int(input(\"Final notunu giriniz:\"))"
   ]
  },
  {
   "cell_type": "code",
   "execution_count": 53,
   "id": "3a16e210",
   "metadata": {},
   "outputs": [
    {
     "data": {
      "text/plain": [
       "74.0"
      ]
     },
     "execution_count": 53,
     "metadata": {},
     "output_type": "execute_result"
    }
   ],
   "source": [
    "ortalama=(vize*0.2)+(final*0.8)\n",
    "ortalama"
   ]
  },
  {
   "cell_type": "code",
   "execution_count": 54,
   "id": "c8612797",
   "metadata": {},
   "outputs": [
    {
     "name": "stdout",
     "output_type": "stream",
     "text": [
      "BB\n"
     ]
    }
   ],
   "source": [
    "if ortalama>=90:\n",
    "    print(\"AA\")\n",
    "elif ortalama>=85:\n",
    "    print(\"BA\")\n",
    "elif ortalama>=70:\n",
    "    print(\"BB\")\n",
    "elif ortalama>=65:\n",
    "    print(\"CB\")\n",
    "elif ortalama>=60:\n",
    "    print(\"CC\")\n",
    "elif ortalama>=55:\n",
    "    print(\"DC\")\n",
    "elif ortalama>=50:\n",
    "    print(\"DD\")\n",
    "elif ortalama>=45:\n",
    "    print(\"FD\")\n",
    "else:\n",
    "    print(\"FF\")"
   ]
  },
  {
   "cell_type": "code",
   "execution_count": null,
   "id": "66c79bc5",
   "metadata": {},
   "outputs": [],
   "source": [
    "if 90<=ortalama<=100:\n",
    "    print(\"AA\")\n",
    "if 85<=ortalama<90:\n",
    "    print(\"BA\")"
   ]
  },
  {
   "cell_type": "code",
   "execution_count": 1,
   "id": "6fec8e5f",
   "metadata": {},
   "outputs": [
    {
     "name": "stdout",
     "output_type": "stream",
     "text": [
      "B\n"
     ]
    }
   ],
   "source": [
    "#Karakter dizileri\n",
    "metin=\"BTK AKADEMİ\"\n",
    "print(metin[0])"
   ]
  },
  {
   "cell_type": "code",
   "execution_count": 2,
   "id": "5f173c57",
   "metadata": {},
   "outputs": [
    {
     "data": {
      "text/plain": [
       "'BTK'"
      ]
     },
     "execution_count": 2,
     "metadata": {},
     "output_type": "execute_result"
    }
   ],
   "source": [
    "metin[0:3]"
   ]
  },
  {
   "cell_type": "code",
   "execution_count": 3,
   "id": "f5eaded2",
   "metadata": {},
   "outputs": [
    {
     "data": {
      "text/plain": [
       "'AKADEMİ'"
      ]
     },
     "execution_count": 3,
     "metadata": {},
     "output_type": "execute_result"
    }
   ],
   "source": [
    "metin[4:] #index 4 te nbaşlayarak sonuna kadar gider"
   ]
  },
  {
   "cell_type": "code",
   "execution_count": 4,
   "id": "3ca846c4",
   "metadata": {},
   "outputs": [
    {
     "data": {
      "text/plain": [
       "'İ'"
      ]
     },
     "execution_count": 4,
     "metadata": {},
     "output_type": "execute_result"
    }
   ],
   "source": [
    "metin[-1]\n",
    "Current Kernel Logo\n",
    "Python 3 (ipykernel) \n",
    "File\n",
    "Edit\n",
    "View\n",
    "Ins"
   ]
  },
  {
   "cell_type": "code",
   "execution_count": 5,
   "id": "8ea86520",
   "metadata": {},
   "outputs": [
    {
     "data": {
      "text/plain": [
       "'BTK AKADEM'"
      ]
     },
     "execution_count": 5,
     "metadata": {},
     "output_type": "execute_result"
    }
   ],
   "source": [
    "metin[:-1]"
   ]
  },
  {
   "cell_type": "code",
   "execution_count": 19,
   "id": "311d409e",
   "metadata": {},
   "outputs": [
    {
     "name": "stdout",
     "output_type": "stream",
     "text": [
      "Adınızı ve soyadınızı giriniz:Ahmet ALi Akdemir\n"
     ]
    }
   ],
   "source": [
    "#kulanıcıdan adını ve soyadını alın\n",
    "ad_soyad=input(\"Adınızı ve soyadınızı giriniz:\")\n",
    "ad_soyad_list=ad_soyad.split()"
   ]
  },
  {
   "cell_type": "code",
   "execution_count": 20,
   "id": "a8efc049",
   "metadata": {},
   "outputs": [
    {
     "name": "stdout",
     "output_type": "stream",
     "text": [
      "Ah****AL****Ak****\n"
     ]
    }
   ],
   "source": [
    "isim_gizleme=\"\"\n",
    "for isim in ad_soyad_list:\n",
    "    isim_gizleme+=isim[:2]+\"****\"\n",
    "#list enhanced\n",
    "#isim_gizleme=\"\".join(isim[:2]+\"****\" for isim in ad_soyad_list)\n",
    "print(isim_gizleme)"
   ]
  },
  {
   "cell_type": "code",
   "execution_count": 22,
   "id": "5e43c0b0",
   "metadata": {},
   "outputs": [],
   "source": [
    "def isim_gizleme(isim_soyisim):\n",
    "    ad_soyad_list=isim_soyisim.split()\n",
    "    isim_gizleme_str=\"\"\n",
    "    for isim in ad_soyad_list:\n",
    "        isim_gizleme_str+=isim[:2]+\"****\"\n",
    "    return isim_gizleme_str"
   ]
  },
  {
   "cell_type": "code",
   "execution_count": 23,
   "id": "10fc7212",
   "metadata": {},
   "outputs": [
    {
     "data": {
      "text/plain": [
       "'Mu****AL****'"
      ]
     },
     "execution_count": 23,
     "metadata": {},
     "output_type": "execute_result"
    }
   ],
   "source": [
    "isim_gizleme(\"Murat ALTUN\")"
   ]
  },
  {
   "cell_type": "code",
   "execution_count": 24,
   "id": "6ca866b9",
   "metadata": {},
   "outputs": [
    {
     "data": {
      "text/plain": [
       "'Al****Mu****AL****'"
      ]
     },
     "execution_count": 24,
     "metadata": {},
     "output_type": "execute_result"
    }
   ],
   "source": [
    "isim_gizleme(\"Ali Murat ALTUN\")"
   ]
  },
  {
   "cell_type": "code",
   "execution_count": 25,
   "id": "4b42be36",
   "metadata": {},
   "outputs": [
    {
     "data": {
      "text/plain": [
       "'BT****AK****20****'"
      ]
     },
     "execution_count": 25,
     "metadata": {},
     "output_type": "execute_result"
    }
   ],
   "source": [
    "isim_gizleme(\"BTK AKADEMİ 20456978568\")"
   ]
  },
  {
   "cell_type": "code",
   "execution_count": null,
   "id": "e75754c5",
   "metadata": {},
   "outputs": [],
   "source": []
  }
 ],
 "metadata": {
  "kernelspec": {
   "display_name": "Python 3 (ipykernel)",
   "language": "python",
   "name": "python3"
  },
  "language_info": {
   "codemirror_mode": {
    "name": "ipython",
    "version": 3
   },
   "file_extension": ".py",
   "mimetype": "text/x-python",
   "name": "python",
   "nbconvert_exporter": "python",
   "pygments_lexer": "ipython3",
   "version": "3.11.3"
  }
 },
 "nbformat": 4,
 "nbformat_minor": 5
}
