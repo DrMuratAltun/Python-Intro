{
 "cells": [
  {
   "cell_type": "markdown",
   "metadata": {},
   "source": [
    "# Algorithm Challenges\n",
    "These challenges are meant to help you learn to think like a programmer. Work through the challenges and make sure that each of the provided test cases match. Reference the Python documentation as needed. These algorithm challenges are adapted from freeCodeCamp's algorithm practice problems. "
   ]
  },
  {
   "cell_type": "code",
   "execution_count": 1,
   "metadata": {},
   "outputs": [],
   "source": [
    "# Do not change this line, this will grade your algorithm challenges!\n",
    "import algo_tests1 as t"
   ]
  },
  {
   "cell_type": "markdown",
   "metadata": {},
   "source": [
    "## Reverse a String\n",
    "Reverse the provided string. Try to do this a few different ways. "
   ]
  },
  {
   "cell_type": "code",
   "execution_count": 2,
   "metadata": {},
   "outputs": [
    {
     "name": "stdout",
     "output_type": "stream",
     "text": [
      "Passed: Correctly returned 'olleh' for input 'hello'!\n",
      "Passed: Correctly returned 'ydwoH' for input 'Howdy'!\n",
      "Passed: Correctly returned 'htraE morf sgniteerG' for input 'Greetings from Earth'!\n",
      "Passed 3 tests out of 3 tests!\n"
     ]
    }
   ],
   "source": [
    "def reverseString(string):\n",
    "    return string[::-1]\n",
    "\n",
    "t.reverse_test(reverseString) # Do not change - this is for grading!"
   ]
  },
  {
   "cell_type": "markdown",
   "metadata": {},
   "source": [
    "## Factorialize a Number\n",
    "Return the factorial of the provided integer.\n",
    "\n",
    "If the integer is represented with the letter n, a factorial is the product of all positive integers less than or equal to n.\n",
    "\n",
    "Factorials are often represented with the shorthand notation n!\n",
    "\n",
    "For example: 5! = 1 * 2 * 3 * 4 * 5 = 120"
   ]
  },
  {
   "cell_type": "code",
   "execution_count": 10,
   "metadata": {},
   "outputs": [
    {
     "name": "stdout",
     "output_type": "stream",
     "text": [
      "Passed: Correctly returned '120' for input '5'!\n",
      "Passed: Correctly returned '3628800' for input '10'!\n",
      "Passed: Correctly returned '2432902008176640000' for input '20'!\n",
      "Passed: Correctly returned '1' for input '0'!\n",
      "Passed 4 tests out of 4 tests!\n"
     ]
    }
   ],
   "source": [
    "import functools\n",
    "from functools import reduce\n",
    "def factorialize(num):\n",
    "    my_list=list(range(1,num+1))\n",
    "    fac_number = reduce(lambda x,y: x*y, my_list,1)\n",
    "    return fac_number \n",
    "t.factorialize_test(factorialize) # Do not change - this is for grading!"
   ]
  },
  {
   "cell_type": "markdown",
   "metadata": {},
   "source": [
    "## Check for Palindromes \n",
    "Return true if the given string is a palindrome. Otherwise, return false.\n",
    "\n",
    "A palindrome is a word or sentence that's spelled the same way both forward and backward, ignoring punctuation, case, and spacing.\n",
    "\n",
    "Note: You'll need to remove all non-alphanumeric characters (punctuation, spaces and symbols) and turn everything lower case in order to check for palindromes.\n",
    "\n",
    "We'll pass strings with varying formats, such as \"racecar\", \"RaceCar\", and \"race CAR\" among others.\n",
    "\n",
    "We'll also pass strings with special symbols, such as \"2A3*3a2\", \"2A3 3a2\", and \"2_A3*3#A2\"."
   ]
  },
  {
   "cell_type": "code",
   "execution_count": 12,
   "metadata": {},
   "outputs": [
    {
     "name": "stdout",
     "output_type": "stream",
     "text": [
      "Passed: Correctly returned 'True' for input 'eye'!\n",
      "Passed: Correctly returned 'True' for input '_eye'!\n",
      "Passed: Correctly returned 'True' for input 'race car'!\n",
      "Passed: Correctly returned 'False' for input 'not a palindrome'!\n",
      "Passed: Correctly returned 'True' for input 'A man, a plan, a canal. Panama'!\n",
      "Passed: Correctly returned 'True' for input 'never odd or even'!\n",
      "Passed: Correctly returned 'False' for input 'nope'!\n",
      "Passed: Correctly returned 'False' for input 'almostomla'!\n",
      "Passed: Correctly returned 'True' for input 'My age is 0, 0 si ega ym.'!\n",
      "Passed: Correctly returned 'False' for input '1 eye for of 1 eye.'!\n",
      "Passed: Correctly returned 'True' for input '0_0 (: /-\\ :) 0-0'!\n",
      "Passed: Correctly returned 'False' for input 'five|\\_/|four'!\n",
      "Passed 12 tests out of 12 tests!\n"
     ]
    }
   ],
   "source": [
    "def palindrome(string):\n",
    "    string=string.lower() \n",
    "    string = ''.join(e for e in string if e.isalnum())\n",
    "    if string == string[::-1]:\n",
    "        return True\n",
    "    else:\n",
    "        return False\n",
    "\n",
    "t.palindrome_test(palindrome) # Do not change - this is for grading!"
   ]
  },
  {
   "cell_type": "markdown",
   "metadata": {},
   "source": [
    "## Find the Longest Word in a String \n",
    "Return the length of the longest word in the provided sentence.\n",
    "\n",
    "Your response should be a number."
   ]
  },
  {
   "cell_type": "code",
   "execution_count": 17,
   "metadata": {},
   "outputs": [
    {
     "name": "stdout",
     "output_type": "stream",
     "text": [
      "Passed: Correctly returned '6' for input 'The quick brown fox jumped over the lazy dog'!\n",
      "Passed: Correctly returned '5' for input 'May the force be with you'!\n",
      "Passed: Correctly returned '6' for input 'Google do a barrel roll'!\n",
      "Passed: Correctly returned '8' for input 'What is the average airspeed velocity of an unladen swallow'!\n",
      "Passed: Correctly returned '19' for input 'What if we try a super-long word such as otorhinolaryngology'!\n",
      "Passed 5 tests out of 5 tests!\n"
     ]
    }
   ],
   "source": [
    "def findLongestWord(string):\n",
    "    my_list=string.split(' ')\n",
    "    longest_word = max(my_list, key=len)\n",
    "    return len(longest_word)\n",
    "\n",
    "t.findLongestWord_test(findLongestWord) # Do not change - this is for grading!"
   ]
  },
  {
   "cell_type": "markdown",
   "metadata": {},
   "source": [
    "## Title Case a Sentence \n",
    "Return the provided string with the first letter of each word capitalized. Make sure the rest of the word is in lower case.\n",
    "\n",
    "For the purpose of this exercise, you should also capitalize connecting words like \"the\" and \"of\"."
   ]
  },
  {
   "cell_type": "code",
   "execution_count": 23,
   "metadata": {},
   "outputs": [
    {
     "name": "stdout",
     "output_type": "stream",
     "text": [
      "Passed: Correctly returned 'I'm A Little Tea Pot' for input 'I'm a little tea pot'!\n",
      "Passed: Correctly returned 'Short And Stout' for input 'sHoRt AnD sToUt'!\n",
      "Passed: Correctly returned 'Here Is My Handle Here Is My Spout' for input 'HERE IS MY HANDLE HERE IS MY SPOUT'!\n",
      "Passed 3 tests out of 3 tests!\n"
     ]
    }
   ],
   "source": [
    "def titleCase(string):\n",
    "    #string=string.title()doesn't work\n",
    "    string=string.split(' ')\n",
    "    for i in range(len(string)):\n",
    "        string[i]=string[i].capitalize()\n",
    "    return ' '.join(string)\n",
    "\n",
    "t.titleCase_test(titleCase) # Do not change - this is for grading!"
   ]
  },
  {
   "cell_type": "code",
   "execution_count": 21,
   "metadata": {},
   "outputs": [
    {
     "data": {
      "text/plain": [
       "\"I'M A Little Tea Pot\""
      ]
     },
     "execution_count": 21,
     "metadata": {},
     "output_type": "execute_result"
    }
   ],
   "source": [
    "#\"I'm a little tea pot\".title()\n",
    "list=\"I'm a little tea pot\".split(' ')\n",
    "print(\".join(list)\",\"list)"
   ]
  },
  {
   "cell_type": "markdown",
   "metadata": {},
   "source": [
    "## Return Largest Numbers in Lists \n",
    "Return an list consisting of the largest number from each provided sub-list. For simplicity, the provided list will contain exactly 4 sub-lists.\n",
    "\n",
    "Remember, you can iterate through an list with a simple for loop, and access each member with list syntax list[i]."
   ]
  },
  {
   "cell_type": "code",
   "execution_count": 25,
   "metadata": {},
   "outputs": [
    {
     "name": "stdout",
     "output_type": "stream",
     "text": [
      "Passed: Correctly returned '[27, 5, 39, 1001]' for input '[[13, 27, 18, 26], [4, 5, 1, 3], [32, 35, 37, 39], [1000, 1001, 857, 1]]'!\n",
      "Passed: Correctly returned '[9, 35, 97, 1000000]' for input '[[4, 9, 1, 3], [13, 35, 18, 26], [32, 35, 97, 39], [1000000, 1001, 857, 1]]'!\n",
      "Passed 2 tests out of 2 tests!\n"
     ]
    }
   ],
   "source": [
    "def largestOfFour(arr):\n",
    "    new_arr=[]\n",
    "    for i in range(len(arr)):\n",
    "        new_arr.append(max(arr[i]))\n",
    "    return new_arr\n",
    "\n",
    "t.largestOfFour_test(largestOfFour) # Do not change - this is for grading!"
   ]
  },
  {
   "cell_type": "markdown",
   "metadata": {},
   "source": [
    "## Confirm the Ending \n",
    "Check if a string (first argument, string) ends with the given target string (second argument, target)."
   ]
  },
  {
   "cell_type": "code",
   "execution_count": 26,
   "metadata": {},
   "outputs": [
    {
     "name": "stdout",
     "output_type": "stream",
     "text": [
      "Passed: Correctly returned 'True' for input 'Bastian' and 'n'!\n",
      "Passed: Correctly returned 'False' for input 'Connor' and 'n'!\n",
      "Passed: Correctly returned 'False' for input 'Walking on water and developing software from a specification are easy if both are frozen' and 'specification'!\n",
      "Passed: Correctly returned 'True' for input 'He has to give me a new name' and 'name'!\n",
      "Passed: Correctly returned 'True' for input 'Open sesame' and 'same'!\n",
      "Passed: Correctly returned 'False' for input 'Open sesame' and 'pen'!\n",
      "Passed: Correctly returned 'False' for input 'If you want to save our world, you must hurry. We dont know how much longer we can withstand the nothing' and 'mountain'!\n",
      "Passed 7 tests out of 7 tests!\n"
     ]
    }
   ],
   "source": [
    "def confirmEnding(string, target):\n",
    "    if string[-len(target):]==target:\n",
    "        return True\n",
    "    else:\n",
    "        return False\n",
    "\n",
    "t.confirmEnding_test(confirmEnding) # Do not change - this is for grading"
   ]
  },
  {
   "cell_type": "markdown",
   "metadata": {},
   "source": [
    "## Repeat a string repeat a string \n",
    "Repeat a given string (first argument) num times (second argument). Return an empty string if num is not a positive number."
   ]
  },
  {
   "cell_type": "code",
   "execution_count": 27,
   "metadata": {},
   "outputs": [
    {
     "name": "stdout",
     "output_type": "stream",
     "text": [
      "Passed: Correctly returned '***' for input '*' and '3'!\n",
      "Passed: Correctly returned 'abcabcabc' for input 'abc' and '3'!\n",
      "Passed: Correctly returned 'abcabcabcabc' for input 'abc' and '4'!\n",
      "Passed: Correctly returned 'abc' for input 'abc' and '1'!\n",
      "Passed: Correctly returned '********' for input '*' and '8'!\n",
      "Passed: Correctly returned '' for input 'abc' and '-2'!\n",
      "Passed 6 tests out of 6 tests!\n"
     ]
    }
   ],
   "source": [
    "def repeatStringNumTimes(string, num):\n",
    "    if num>0:\n",
    "        return num*string\n",
    "    else: return \"\" \n",
    "t.repeatString_test(repeatStringNumTimes) # Do not change - this is for grading!"
   ]
  },
  {
   "cell_type": "markdown",
   "metadata": {},
   "source": [
    "## Truncate a string \n",
    "Truncate a string (first argument) if it is longer than the given maximum string length (second argument). Return the truncated string with a ... ending.\n",
    "\n",
    "Note that inserting the three dots to the end will add to the string length.\n",
    "\n",
    "However, if the given maximum string length num is less than or equal to 3, then the addition of the three dots does not add to the string length in determining the truncated string."
   ]
  },
  {
   "cell_type": "code",
   "execution_count": 51,
   "metadata": {},
   "outputs": [
    {
     "name": "stdout",
     "output_type": "stream",
     "text": [
      "Passed: Correctly returned 'A-tisket...' for input 'A-tisket a-tasket A green and yellow basket' and '11'!\n",
      "Passed: Correctly returned 'Peter Piper...' for input 'Peter Piper picked a peck of pickled peppers' and '14'!\n",
      "Passed: Correctly returned 'A-tisket a-tasket A green and yellow basket' for input 'A-tisket a-tasket A green and yellow basket' and '43'!\n",
      "Passed: Correctly returned 'A-tisket a-tasket A green and yellow basket' for input 'A-tisket a-tasket A green and yellow basket' and '45'!\n",
      "Passed: Correctly returned 'A...' for input 'A-' and '1'!\n",
      "Passed: Correctly returned 'Ab...' for input 'Absolutely Longer' and '2'!\n",
      "Passed 6 tests out of 6 tests!\n"
     ]
    }
   ],
   "source": [
    "def truncateString(string, num):\n",
    "    if num<=3:\n",
    "        return string[:num]+\"...\"\n",
    "    elif len(string)<=num:\n",
    "        return string\n",
    "    else:return string[:num-3]+\"...\"\n",
    "\n",
    "t.truncateString_test(truncateString) # Do not change - this is for grading!"
   ]
  },
  {
   "cell_type": "markdown",
   "metadata": {},
   "source": [
    "## Chunky Monkey \n",
    "Write a function that splits a list (first argument) into groups the length of size (second argument) and returns them as a two-dimensional list."
   ]
  },
  {
   "cell_type": "code",
   "execution_count": 71,
   "metadata": {},
   "outputs": [
    {
     "name": "stdout",
     "output_type": "stream",
     "text": [
      "Passed: Correctly returned '[['a', 'b'], ['c', 'd']]' for input '['a', 'b', 'c', 'd']' and '2'!\n",
      "Passed: Correctly returned '[[0, 1, 2], [3, 4, 5]]' for input '[0, 1, 2, 3, 4, 5]' and '3'!\n",
      "Passed: Correctly returned '[[0, 1], [2, 3], [4, 5]]' for input '[0, 1, 2, 3, 4, 5]' and '2'!\n",
      "Passed: Correctly returned '[[0, 1, 2, 3], [4, 5]]' for input '[0, 1, 2, 3, 4, 5]' and '4'!\n",
      "Passed: Correctly returned '[[0, 1, 2], [3, 4, 5], [6]]' for input '[0, 1, 2, 3, 4, 5, 6]' and '3'!\n",
      "Passed: Correctly returned '[[0, 1, 2, 3], [4, 5, 6, 7], [8]]' for input '[0, 1, 2, 3, 4, 5, 6, 7, 8]' and '4'!\n",
      "Passed: Correctly returned '[[0, 1], [2, 3], [4, 5], [6, 7], [8]]' for input '[0, 1, 2, 3, 4, 5, 6, 7, 8]' and '2'!\n",
      "Passed 7 tests out of 7 tests!\n"
     ]
    }
   ],
   "source": [
    "def chunkList(arr, size):\n",
    "    num=int(len(arr)/size)\n",
    "    new_arr=[]\n",
    "    for i in range(0,len(arr),size):\n",
    "        new_arr.append(arr[i:i+size])\n",
    "    return new_arr\n",
    "\n",
    "t.chunkList_test(chunkList) # Do not change - this is for grading!"
   ]
  },
  {
   "cell_type": "markdown",
   "metadata": {},
   "source": [
    "## Slasher Flick \n",
    "Return the remaining elements of a list after chopping off n elements from the head.\n",
    "\n",
    "The head means the beginning of the list, or the zeroth index."
   ]
  },
  {
   "cell_type": "code",
   "execution_count": 73,
   "metadata": {},
   "outputs": [
    {
     "name": "stdout",
     "output_type": "stream",
     "text": [
      "Passed: Correctly returned '[3]' for input '[1, 2, 3]' and '2'!\n",
      "Passed: Correctly returned '[1, 2, 3]' for input '[1, 2, 3]' and '0'!\n",
      "Passed: Correctly returned '[]' for input '[1, 2, 3]' and '9'!\n",
      "Passed: Correctly returned '[]' for input '[1, 2, 3]' and '4'!\n",
      "Passed: Correctly returned '['fries', 'shake']' for input '['burgers', 'fries', 'shake']' and '1'!\n",
      "Passed: Correctly returned '['cheese', 4]' for input '[1, 2, 'chicken', 3, 'potatoes', 'cheese', 4]' and '5'!\n",
      "Passed 6 tests out of 6 tests!\n"
     ]
    }
   ],
   "source": [
    "def slasher(arr, howMany):\n",
    "    if howMany>len(arr):\n",
    "        return []\n",
    "    else:\n",
    "        return arr[howMany:]\n",
    "t.slasher_test(slasher) # Do not change - this is for grading!"
   ]
  },
  {
   "cell_type": "markdown",
   "metadata": {},
   "source": [
    "## Mutations \n",
    "Return true if the string in the first element of the list contains all of the letters of the string in the second element of the list.\n",
    "\n",
    "For example, [\"hello\", \"Hello\"], should return true because all of the letters in the second string are present in the first, ignoring case.\n",
    "\n",
    "The arguments [\"hello\", \"hey\"] should return false because the string \"hello\" does not contain a \"y\".\n",
    "\n",
    "Lastly, [\"Alien\", \"line\"], should return true because all of the letters in \"line\" are present in \"Alien\"."
   ]
  },
  {
   "cell_type": "code",
   "execution_count": 85,
   "metadata": {},
   "outputs": [
    {
     "name": "stdout",
     "output_type": "stream",
     "text": [
      "Passed: Correctly returned 'False' for input '['hello', 'hey']'!\n",
      "Passed: Correctly returned 'True' for input '['hello', 'Hello']'!\n",
      "Passed: Correctly returned 'True' for input '['zyxwvutsrqponmlkjihgfedcba', 'qrstu']'!\n",
      "Passed: Correctly returned 'True' for input '['Mary', 'Army']'!\n",
      "Passed: Correctly returned 'True' for input '['Mary', 'Aarmy']'!\n",
      "Passed: Correctly returned 'True' for input '['Alien', 'line']'!\n",
      "Passed: Correctly returned 'True' for input '['floor', 'for']'!\n",
      "Passed: Correctly returned 'False' for input '['hello', 'neo']'!\n",
      "Passed: Correctly returned 'False' for input '['voodoo', 'no']'!\n",
      "Passed 9 tests out of 9 tests!\n"
     ]
    }
   ],
   "source": [
    "def mutation(arr):\n",
    "    val=True\n",
    "    for i in arr[1]:\n",
    "        if i.lower() not in arr[0].lower():\n",
    "            val=False\n",
    "    return val\n",
    "\n",
    "t.mutation_test(mutation) # Do not change - this is for grading!"
   ]
  },
  {
   "cell_type": "markdown",
   "metadata": {},
   "source": [
    "## Falsy Bouncer \n",
    "Remove all falsy values from a list.\n",
    "\n",
    "Falsy values in Python are False, None, 0, \"\", (), [], and {}."
   ]
  },
  {
   "cell_type": "code",
   "execution_count": 97,
   "metadata": {},
   "outputs": [
    {
     "name": "stdout",
     "output_type": "stream",
     "text": [
      "Passed: Correctly returned '[7, 'ate', 9]' for input '[7, 'ate', '', False, 9]'!\n",
      "Passed: Correctly returned '['a', 'b', 'c']' for input '['a', 'b', 'c']'!\n",
      "Passed: Correctly returned '[]' for input '[False, None, 0, [], '']'!\n",
      "Passed: Correctly returned '[1, 2]' for input '[1, None, False, 2, {}]'!\n",
      "Passed 4 tests out of 4 tests!\n"
     ]
    }
   ],
   "source": [
    "def bouncer(arr):\n",
    "    # Don't show a false ID to this bouncer.\n",
    "    falsy_val_list=[ False, None, 0, '', (), [], {}]\n",
    "    new_arr=[]\n",
    "    for i in arr:\n",
    "        if i not in falsy_val_list:\n",
    "            new_arr.append(i)\n",
    "    return new_arr\n",
    "\n",
    "t.bouncer_test(bouncer) # Do not change - this is for grading!"
   ]
  },
  {
   "cell_type": "markdown",
   "metadata": {},
   "source": [
    "## Seek and Destroy \n",
    "You will be provided with an initial list (the first argument in the destroyer function), followed by a list of targets. Remove all elements from the initial list that are of the same value as these targets."
   ]
  },
  {
   "cell_type": "code",
   "execution_count": 98,
   "metadata": {},
   "outputs": [
    {
     "name": "stdout",
     "output_type": "stream",
     "text": [
      "Passed: Correctly returned '[1, 1]' for input '[1, 2, 3, 1, 2, 3]' and '[2, 3]'!\n",
      "Passed: Correctly returned '[1, 5, 1]' for input '[1, 2, 3, 5, 1, 2, 3]' and '[2, 3]'!\n",
      "Passed: Correctly returned '[1]' for input '[3, 5, 1, 2, 2]' and '[2, 3, 5]'!\n",
      "Passed: Correctly returned '[]' for input '[2, 3, 2, 3]' and '[2, 3]'!\n",
      "Passed: Correctly returned '['hamburger']' for input '['tree', 'hamburger', 53]' and '['tree', 53]'!\n",
      "Passed 5 tests out of 5 tests!\n"
     ]
    }
   ],
   "source": [
    "def destroyer(arr, target):\n",
    "    new_arr=[]\n",
    "    for i in arr:\n",
    "        if i not in target:\n",
    "            new_arr.append(i)\n",
    "    return new_arr\n",
    "\n",
    "t.destroyer_test(destroyer) # Do not change - this is for grading!"
   ]
  },
  {
   "cell_type": "markdown",
   "metadata": {},
   "source": [
    "## Where do I belong \n",
    "Return the lowest index at which a value (second argument) should be inserted into a list (first argument) once it has been sorted. The returned value should be a number.\n",
    "\n",
    "For example, `getIndexToIns([1,2,3,4], 1.5)` should return 1 because it is greater than 1 (index 0), but less than 2 (index 1).\n",
    "\n",
    "Likewise, `getIndexToIns([20,3,5], 19)` should return 2 because once the array has been sorted it will look like [3,5,20] and 19 is less than 20 (index 2) and greater than 5 (index 1)."
   ]
  },
  {
   "cell_type": "code",
   "execution_count": 99,
   "metadata": {},
   "outputs": [
    {
     "name": "stdout",
     "output_type": "stream",
     "text": [
      "Passed: Correctly returned '3' for input '[10, 20, 30, 35, 40, 50]' and '35'!\n",
      "Passed: Correctly returned '2' for input '[10, 20, 30, 30, 40, 50]' and '30'!\n",
      "Passed: Correctly returned '1' for input '[40, 50, 60]' and '50'!\n",
      "Passed: Correctly returned '0' for input '[3, 3, 5, 10]' and '3'!\n",
      "Passed: Correctly returned '2' for input '[3, 3, 5, 5, 20]' and '5'!\n",
      "Passed: Correctly returned '2' for input '[2, 10, 19, 20]' and '19'!\n",
      "Passed: Correctly returned '3' for input '[2, 5, 10, 15]' and '15'!\n",
      "Passed 7 tests out of 7 tests!\n"
     ]
    }
   ],
   "source": [
    "def getIndexToIns(arr, num):\n",
    "    arr.append(num)\n",
    "    arr.sort()\n",
    "    num=arr.index(num)\n",
    "    return num\n",
    "\n",
    "t.getIndex_test(getIndexToIns) # Do not change - this is for grading!"
   ]
  },
  {
   "cell_type": "markdown",
   "metadata": {},
   "source": [
    "## Caesars Cipher \n",
    "One of the simplest and most widely known ciphers is a Caesar cipher, also known as a shift cipher. In a shift cipher the meanings of the letters are shifted by some set amount.\n",
    "\n",
    "A common modern use is the ROT13 cipher, where the values of the letters are shifted by 13 places. Thus 'A' ↔ 'N', 'B' ↔ 'O' and so on.\n",
    "\n",
    "Write a function which takes a ROT13 encoded string as input and returns a decoded string.\n",
    "\n",
    "All letters will be uppercase. Do not transform any non-alphabetic character (i.e. spaces, punctuation), but do pass them on."
   ]
  },
  {
   "cell_type": "code",
   "execution_count": 111,
   "metadata": {},
   "outputs": [
    {
     "name": "stdout",
     "output_type": "stream",
     "text": [
      "Passed: Correctly returned 'THEDEVMASTERS' for input 'GURQRIZNFGREF'!\n",
      "Passed: Correctly returned 'DATA SCIENCE!' for input 'QNGN FPVRAPR!'!\n",
      "Passed: Correctly returned 'FREE PIZZA!' for input 'SERR CVMMN!'!\n",
      "Passed: Correctly returned 'THE QUICK BROWN DOG JUMPED OVER THE LAZY FOX.' for input 'GUR DHVPX OEBJA QBT WHZCRQ BIRE GUR YNML SBK.'!\n",
      "Passed 4 tests out of 4 tests!\n"
     ]
    }
   ],
   "source": [
    "def rot13(string):\n",
    "    # LBH QVQ VG!\n",
    "    string= string.upper()\n",
    "    alphabet = [chr(i) for i in range(ord('A'),ord('Z')+1)]\n",
    "    new_message=\"\"\n",
    "    for i in string:\n",
    "        if i in alphabet:\n",
    "            new_message+=alphabet[(alphabet.index(i)+13)%26]\n",
    "        else:\n",
    "            new_message+=i\n",
    "    return new_message\n",
    "t.rot13_test(rot13) # Do not change - this is for grading!"
   ]
  },
  {
   "cell_type": "code",
   "execution_count": null,
   "metadata": {},
   "outputs": [],
   "source": []
  }
 ],
 "metadata": {
  "anaconda-cloud": {},
  "kernelspec": {
   "display_name": "Python 3 (ipykernel)",
   "language": "python",
   "name": "python3"
  },
  "language_info": {
   "codemirror_mode": {
    "name": "ipython",
    "version": 3
   },
   "file_extension": ".py",
   "mimetype": "text/x-python",
   "name": "python",
   "nbconvert_exporter": "python",
   "pygments_lexer": "ipython3",
   "version": "3.11.3"
  }
 },
 "nbformat": 4,
 "nbformat_minor": 1
}
